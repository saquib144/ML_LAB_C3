{
 "cells": [
  {
   "cell_type": "code",
   "execution_count": 1,
   "id": "db4f88ec",
   "metadata": {},
   "outputs": [
    {
     "name": "stdout",
     "output_type": "stream",
     "text": [
      "<bound method NDFrame.head of      num_preg  glucose_conc  diastolic_bp  thickness  insulin   bmi  \\\n",
      "0           6           148            72         35        0  33.6   \n",
      "1           1            85            66         29        0  26.6   \n",
      "2           8           183            64          0        0  23.3   \n",
      "3           1            89            66         23       94  28.1   \n",
      "4           0           137            40         35      168  43.1   \n",
      "..        ...           ...           ...        ...      ...   ...   \n",
      "763        10           101            76         48      180  32.9   \n",
      "764         2           122            70         27        0  36.8   \n",
      "765         5           121            72         23      112  26.2   \n",
      "766         1           126            60          0        0  30.1   \n",
      "767         1            93            70         31        0  30.4   \n",
      "\n",
      "     diab_pred  age  diabetes  \n",
      "0        0.627   50         1  \n",
      "1        0.351   31         0  \n",
      "2        0.672   32         1  \n",
      "3        0.167   21         0  \n",
      "4        2.288   33         1  \n",
      "..         ...  ...       ...  \n",
      "763      0.171   63         0  \n",
      "764      0.340   27         0  \n",
      "765      0.245   30         0  \n",
      "766      0.349   47         1  \n",
      "767      0.315   23         0  \n",
      "\n",
      "[768 rows x 9 columns]>\n",
      "\n",
      " the total number of Training Data : (514, 1)\n",
      "\n",
      " the total number of Test Data : (254, 1)\n",
      "\n",
      " Confusion matrix\n",
      "[[147  26]\n",
      " [ 28  53]]\n",
      "\n",
      " Accuracy of the classifier is 0.7874015748031497\n",
      "\n",
      " The value of Precision 0.6708860759493671\n",
      "\n",
      " The value of Recall 0.654320987654321\n",
      "Predicted Value for individual Test Data: [1]\n"
     ]
    }
   ],
   "source": [
    "import pandas as pd\n",
    "from sklearn.model_selection import train_test_split\n",
    "from sklearn.naive_bayes import GaussianNB\n",
    "from sklearn import metrics\n",
    "\n",
    "df = pd.read_csv(\"pima_indian.csv\")\n",
    "feature_col_names = ['num_preg', 'glucose_conc', 'diastolic_bp', 'thickness', 'insulin', 'bmi', 'diab_pred', 'age']\n",
    "predicted_class_names = ['diabetes']\n",
    "\n",
    "X = df[feature_col_names].values # these are factors for the prediction\n",
    "y = df[predicted_class_names].values # this is what we want to predict\n",
    "\n",
    "#splitting the dataset into train and test data\n",
    "print(df.head)\n",
    "xtrain,xtest,ytrain,ytest=train_test_split(X,y,test_size=0.33)\n",
    "\n",
    "print ('\\n the total number of Training Data :',ytrain.shape)\n",
    "print ('\\n the total number of Test Data :',ytest.shape)\n",
    "\n",
    "\n",
    "# Training Naive Bayes (NB) classifier on training data.\n",
    "\n",
    "clf = GaussianNB().fit(xtrain,ytrain.ravel())\n",
    "predicted = clf.predict(xtest)\n",
    "predictTestData= clf.predict([[6,148,72,35,0,33.6,0.627,50]])\n",
    "\n",
    "#printing Confusion matrix, accuracy, Precision and Recall\n",
    "\n",
    "print('\\n Confusion matrix')\n",
    "print(metrics.confusion_matrix(ytest,predicted))\n",
    "\n",
    "print('\\n Accuracy of the classifier is',metrics.accuracy_score(ytest,predicted))\n",
    "\n",
    "print('\\n The value of Precision', metrics.precision_score(ytest,predicted))\n",
    "\n",
    "print('\\n The value of Recall', metrics.recall_score(ytest,predicted))\n",
    "\n",
    "print(\"Predicted Value for individual Test Data:\", predictTestData)"
   ]
  },
  {
   "cell_type": "code",
   "execution_count": null,
   "id": "25854733",
   "metadata": {},
   "outputs": [],
   "source": []
  }
 ],
 "metadata": {
  "kernelspec": {
   "display_name": "Python 3 (ipykernel)",
   "language": "python",
   "name": "python3"
  },
  "language_info": {
   "codemirror_mode": {
    "name": "ipython",
    "version": 3
   },
   "file_extension": ".py",
   "mimetype": "text/x-python",
   "name": "python",
   "nbconvert_exporter": "python",
   "pygments_lexer": "ipython3",
   "version": "3.9.7"
  }
 },
 "nbformat": 4,
 "nbformat_minor": 5
}
